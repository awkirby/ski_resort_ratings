{
 "cells": [
  {
   "cell_type": "markdown",
   "id": "64bf0f91-f87b-4d38-82a7-0aed9aea6e1e",
   "metadata": {},
   "source": [
    "# Predicting Ski Resort Ratings"
   ]
  },
  {
   "cell_type": "code",
   "execution_count": 1,
   "id": "ea338504-eeb7-4353-ae76-6278b86a5779",
   "metadata": {},
   "outputs": [],
   "source": [
    "import pandas as pd\n",
    "pd.set_option('display.width', 2000)\n",
    "pd.set_option('display.max_colwidth', 200)\n",
    "import numpy as np"
   ]
  },
  {
   "cell_type": "markdown",
   "id": "0f016761-de42-4bc2-a8ac-6ed7d7a570d3",
   "metadata": {},
   "source": [
    "## Load Data"
   ]
  },
  {
   "cell_type": "code",
   "execution_count": 2,
   "id": "a73fbafd-494f-490d-ad71-756b725925e9",
   "metadata": {},
   "outputs": [],
   "source": [
    "df_resorts = pd.read_csv(\"data/resorts_data_for_ratings.csv\", index_col=0)"
   ]
  },
  {
   "cell_type": "code",
   "execution_count": 3,
   "id": "7edf8ddf-7b24-452c-89cb-212457eae4cc",
   "metadata": {},
   "outputs": [],
   "source": [
    "# As an initial approach drop any columns that will not be part of training the model\n",
    "# eg columns that can be inferred from other columns to reduce collinearity\n",
    "df_resorts.drop(columns=[\"Name\", \"Max Elevation (m)\", \"Black Piste Percent\" ], inplace=True)\n",
    "df_resorts.dropna(subset=[\"Cost in Euros\"], inplace=True)"
   ]
  },
  {
   "cell_type": "code",
   "execution_count": 4,
   "id": "f81f1d61-606e-4455-a4cc-1df474b6eeb8",
   "metadata": {},
   "outputs": [
    {
     "data": {
      "text/plain": [
       "2.0    1745\n",
       "3.0     948\n",
       "4.0     300\n",
       "5.0      16\n",
       "Name: Star Rating, dtype: int64"
      ]
     },
     "execution_count": 4,
     "metadata": {},
     "output_type": "execute_result"
    }
   ],
   "source": [
    "# Set up the Star Rating as a classifier\n",
    "# Values shall be rounded to the nearest integer\n",
    "df_resorts.loc[:, [\"Star Rating\"]] = df_resorts[[\"Star Rating\"]].apply(lambda x: np.around(x, decimals=0)).astype('str')\n",
    "\n",
    "# Count the number of each rating\n",
    "df_resorts[\"Star Rating\"].value_counts()"
   ]
  },
  {
   "cell_type": "code",
   "execution_count": 5,
   "id": "23a6bc07-498e-4b43-a747-b60cbe747e23",
   "metadata": {},
   "outputs": [
    {
     "data": {
      "text/html": [
       "<div>\n",
       "<style scoped>\n",
       "    .dataframe tbody tr th:only-of-type {\n",
       "        vertical-align: middle;\n",
       "    }\n",
       "\n",
       "    .dataframe tbody tr th {\n",
       "        vertical-align: top;\n",
       "    }\n",
       "\n",
       "    .dataframe thead th {\n",
       "        text-align: right;\n",
       "    }\n",
       "</style>\n",
       "<table border=\"1\" class=\"dataframe\">\n",
       "  <thead>\n",
       "    <tr style=\"text-align: right;\">\n",
       "      <th></th>\n",
       "      <th>Continent</th>\n",
       "      <th>Country</th>\n",
       "      <th>Star Rating</th>\n",
       "      <th>Elevation Change (m)</th>\n",
       "      <th>Base Elevation (m)</th>\n",
       "      <th>Total Piste Length (km)</th>\n",
       "      <th>Blue Piste Percent</th>\n",
       "      <th>Red Piste Percent</th>\n",
       "      <th>Ski Lifts</th>\n",
       "      <th>Cost in Euros</th>\n",
       "    </tr>\n",
       "    <tr>\n",
       "      <th>Access Order</th>\n",
       "      <th></th>\n",
       "      <th></th>\n",
       "      <th></th>\n",
       "      <th></th>\n",
       "      <th></th>\n",
       "      <th></th>\n",
       "      <th></th>\n",
       "      <th></th>\n",
       "      <th></th>\n",
       "      <th></th>\n",
       "    </tr>\n",
       "  </thead>\n",
       "  <tbody>\n",
       "    <tr>\n",
       "      <th>1</th>\n",
       "      <td>Europe</td>\n",
       "      <td>Austria</td>\n",
       "      <td>excellent</td>\n",
       "      <td>683</td>\n",
       "      <td>1630</td>\n",
       "      <td>100.0</td>\n",
       "      <td>61.0</td>\n",
       "      <td>35.0</td>\n",
       "      <td>26</td>\n",
       "      <td>49.0</td>\n",
       "    </tr>\n",
       "    <tr>\n",
       "      <th>2</th>\n",
       "      <td>Europe</td>\n",
       "      <td>Austria</td>\n",
       "      <td>excellent</td>\n",
       "      <td>1096</td>\n",
       "      <td>1004</td>\n",
       "      <td>27.3</td>\n",
       "      <td>47.0</td>\n",
       "      <td>46.0</td>\n",
       "      <td>8</td>\n",
       "      <td>49.5</td>\n",
       "    </tr>\n",
       "    <tr>\n",
       "      <th>3</th>\n",
       "      <td>Europe</td>\n",
       "      <td>Austria</td>\n",
       "      <td>excellent</td>\n",
       "      <td>1404</td>\n",
       "      <td>650</td>\n",
       "      <td>17.1</td>\n",
       "      <td>21.0</td>\n",
       "      <td>63.0</td>\n",
       "      <td>7</td>\n",
       "      <td>59.0</td>\n",
       "    </tr>\n",
       "    <tr>\n",
       "      <th>4</th>\n",
       "      <td>Europe</td>\n",
       "      <td>Austria</td>\n",
       "      <td>excellent</td>\n",
       "      <td>1120</td>\n",
       "      <td>740</td>\n",
       "      <td>42.0</td>\n",
       "      <td>43.0</td>\n",
       "      <td>52.0</td>\n",
       "      <td>14</td>\n",
       "      <td>50.0</td>\n",
       "    </tr>\n",
       "    <tr>\n",
       "      <th>5</th>\n",
       "      <td>Europe</td>\n",
       "      <td>Austria</td>\n",
       "      <td>excellent</td>\n",
       "      <td>1195</td>\n",
       "      <td>830</td>\n",
       "      <td>90.9</td>\n",
       "      <td>28.0</td>\n",
       "      <td>58.0</td>\n",
       "      <td>46</td>\n",
       "      <td>51.0</td>\n",
       "    </tr>\n",
       "    <tr>\n",
       "      <th>...</th>\n",
       "      <td>...</td>\n",
       "      <td>...</td>\n",
       "      <td>...</td>\n",
       "      <td>...</td>\n",
       "      <td>...</td>\n",
       "      <td>...</td>\n",
       "      <td>...</td>\n",
       "      <td>...</td>\n",
       "      <td>...</td>\n",
       "      <td>...</td>\n",
       "    </tr>\n",
       "    <tr>\n",
       "      <th>4890</th>\n",
       "      <td>Europe</td>\n",
       "      <td>Germany</td>\n",
       "      <td>low</td>\n",
       "      <td>30</td>\n",
       "      <td>764</td>\n",
       "      <td>0.2</td>\n",
       "      <td>100.0</td>\n",
       "      <td>0.0</td>\n",
       "      <td>1</td>\n",
       "      <td>5.0</td>\n",
       "    </tr>\n",
       "    <tr>\n",
       "      <th>4892</th>\n",
       "      <td>Europe</td>\n",
       "      <td>Switzerland</td>\n",
       "      <td>low</td>\n",
       "      <td>40</td>\n",
       "      <td>765</td>\n",
       "      <td>0.2</td>\n",
       "      <td>100.0</td>\n",
       "      <td>0.0</td>\n",
       "      <td>1</td>\n",
       "      <td>14.0</td>\n",
       "    </tr>\n",
       "    <tr>\n",
       "      <th>4893</th>\n",
       "      <td>Europe</td>\n",
       "      <td>Germany</td>\n",
       "      <td>low</td>\n",
       "      <td>30</td>\n",
       "      <td>923</td>\n",
       "      <td>0.2</td>\n",
       "      <td>100.0</td>\n",
       "      <td>0.0</td>\n",
       "      <td>1</td>\n",
       "      <td>7.0</td>\n",
       "    </tr>\n",
       "    <tr>\n",
       "      <th>5868</th>\n",
       "      <td>Europe</td>\n",
       "      <td>Germany</td>\n",
       "      <td>low</td>\n",
       "      <td>35</td>\n",
       "      <td>435</td>\n",
       "      <td>0.3</td>\n",
       "      <td>100.0</td>\n",
       "      <td>0.0</td>\n",
       "      <td>1</td>\n",
       "      <td>15.0</td>\n",
       "    </tr>\n",
       "    <tr>\n",
       "      <th>5874</th>\n",
       "      <td>Europe</td>\n",
       "      <td>Germany</td>\n",
       "      <td>low</td>\n",
       "      <td>40</td>\n",
       "      <td>740</td>\n",
       "      <td>0.3</td>\n",
       "      <td>100.0</td>\n",
       "      <td>0.0</td>\n",
       "      <td>1</td>\n",
       "      <td>8.0</td>\n",
       "    </tr>\n",
       "  </tbody>\n",
       "</table>\n",
       "<p>3009 rows × 10 columns</p>\n",
       "</div>"
      ],
      "text/plain": [
       "             Continent      Country Star Rating  Elevation Change (m)  Base Elevation (m)  Total Piste Length (km)  Blue Piste Percent  Red Piste Percent  Ski Lifts  Cost in Euros\n",
       "Access Order                                                                                                                                                                       \n",
       "1               Europe      Austria   excellent                   683                1630                    100.0                61.0               35.0         26           49.0\n",
       "2               Europe      Austria   excellent                  1096                1004                     27.3                47.0               46.0          8           49.5\n",
       "3               Europe      Austria   excellent                  1404                 650                     17.1                21.0               63.0          7           59.0\n",
       "4               Europe      Austria   excellent                  1120                 740                     42.0                43.0               52.0         14           50.0\n",
       "5               Europe      Austria   excellent                  1195                 830                     90.9                28.0               58.0         46           51.0\n",
       "...                ...          ...         ...                   ...                 ...                      ...                 ...                ...        ...            ...\n",
       "4890            Europe      Germany         low                    30                 764                      0.2               100.0                0.0          1            5.0\n",
       "4892            Europe  Switzerland         low                    40                 765                      0.2               100.0                0.0          1           14.0\n",
       "4893            Europe      Germany         low                    30                 923                      0.2               100.0                0.0          1            7.0\n",
       "5868            Europe      Germany         low                    35                 435                      0.3               100.0                0.0          1           15.0\n",
       "5874            Europe      Germany         low                    40                 740                      0.3               100.0                0.0          1            8.0\n",
       "\n",
       "[3009 rows x 10 columns]"
      ]
     },
     "execution_count": 5,
     "metadata": {},
     "output_type": "execute_result"
    }
   ],
   "source": [
    "# The number of 5 star rating's is very low, particularly once training, validation and testing is accounted for\n",
    "# This could be managed by over-representing, but it will probably not be enough in this case. \n",
    "# Combine 4 and 5 star ratings instead\n",
    "# Classifications: low : 1,2, good: 3, excellent : 4,5\n",
    "\n",
    "replacement = {\"1.0\":\"low\", \"2.0\":\"low\", \"3.0\":\"good\",\"4.0\":\"excellent\",\"5.0\":\"excellent\"}\n",
    "for key in replacement:\n",
    "    df_resorts[\"Star Rating\"] = df_resorts[\"Star Rating\"].str.replace(key, replacement[key], regex=False)\n",
    "df_resorts"
   ]
  },
  {
   "cell_type": "code",
   "execution_count": 6,
   "id": "2f28d717-3d0d-4607-b7d7-2c527ecd28a6",
   "metadata": {},
   "outputs": [
    {
     "data": {
      "text/plain": [
       "low          1745\n",
       "good          948\n",
       "excellent     316\n",
       "Name: Star Rating, dtype: int64"
      ]
     },
     "execution_count": 6,
     "metadata": {},
     "output_type": "execute_result"
    }
   ],
   "source": [
    "df_resorts[\"Star Rating\"].value_counts()"
   ]
  },
  {
   "cell_type": "code",
   "execution_count": 7,
   "id": "1ef6cbc2-2fe6-40bc-8129-627b4a4c3b06",
   "metadata": {},
   "outputs": [],
   "source": [
    "# Need to 1-hot encode categorical variables\n",
    "df_resorts = pd.get_dummies(df_resorts, columns=[\"Continent\", \"Country\"])"
   ]
  },
  {
   "cell_type": "markdown",
   "id": "e69a9abf-0336-4480-aaf2-b14501e6997c",
   "metadata": {},
   "source": [
    "## Classification"
   ]
  },
  {
   "cell_type": "code",
   "execution_count": 8,
   "id": "7c5516b5-565c-4d1f-9d06-bbcd39f3fce9",
   "metadata": {},
   "outputs": [],
   "source": [
    "from sklearn.model_selection import train_test_split\n",
    "from sklearn.model_selection import StratifiedKFold\n",
    "from sklearn.ensemble import RandomForestClassifier"
   ]
  },
  {
   "cell_type": "code",
   "execution_count": 9,
   "id": "5bd9e162-4ff8-4458-8a2a-691dce737883",
   "metadata": {},
   "outputs": [],
   "source": [
    "# Split out test set\n",
    "df_train = df_resorts.drop(columns=[\"Star Rating\"])\n",
    "X_train, X_test, y_train, y_test = train_test_split(df_train, df_resorts[\"Star Rating\"], test_size = 0.20)"
   ]
  },
  {
   "cell_type": "code",
   "execution_count": 10,
   "id": "01038c94-2a7b-4cb1-acfc-0ff86dcc7025",
   "metadata": {},
   "outputs": [],
   "source": [
    "# Use K-fold to split for cross validation\n",
    "skf = StratifiedKFold(n_splits=8, shuffle=True, random_state=8)"
   ]
  },
  {
   "cell_type": "code",
   "execution_count": 11,
   "id": "2efe98d2-2d0b-4933-9698-95e468e0c5f1",
   "metadata": {},
   "outputs": [],
   "source": [
    "# Start by trying to fit a Random Forest Classifier\n",
    "# Use default hyperparameters to start with\n",
    "rcf = RandomForestClassifier()"
   ]
  },
  {
   "cell_type": "code",
   "execution_count": 12,
   "id": "afee8c00-667a-427e-befb-fdee41e58436",
   "metadata": {},
   "outputs": [
    {
     "name": "stdout",
     "output_type": "stream",
     "text": [
      "0.9019476744186047\n"
     ]
    }
   ],
   "source": [
    "# Store validation scores\n",
    "val_score = 0\n",
    "\n",
    "for train_index, val_index in skf.split(X_train, y_train):\n",
    "    rcf.fit(X_train.iloc[train_index], y_train.iloc[train_index])\n",
    "    \n",
    "    val_score += rcf.score(X_train.iloc[val_index], y_train.iloc[val_index])\n",
    "    \n",
    "print(val_score / 8)"
   ]
  },
  {
   "cell_type": "code",
   "execution_count": 13,
   "id": "191097a4-6f85-4317-b459-54f2d1149273",
   "metadata": {},
   "outputs": [],
   "source": [
    "# Check the results for any threshold issues\n",
    "from sklearn.metrics import plot_confusion_matrix"
   ]
  },
  {
   "cell_type": "code",
   "execution_count": 14,
   "id": "00c59dfd-b162-4d54-87f6-a4f57f4c787c",
   "metadata": {},
   "outputs": [
    {
     "data": {
      "text/plain": [
       "<sklearn.metrics._plot.confusion_matrix.ConfusionMatrixDisplay at 0x1f1ab3d6c10>"
      ]
     },
     "execution_count": 14,
     "metadata": {},
     "output_type": "execute_result"
    },
    {
     "data": {
      "image/png": "[encoded data removed]",
      "text/plain": [
       "<Figure size 432x288 with 2 Axes>"
      ]
     },
     "metadata": {
      "needs_background": "light"
     },
     "output_type": "display_data"
    }
   ],
   "source": [
    "plot_confusion_matrix(rcf, X_train.iloc[val_index], y_train.iloc[val_index])"
   ]
  },
  {
   "cell_type": "code",
   "execution_count": 15,
   "id": "c2f0ea04-9fec-4e5e-9ce7-6f733177321a",
   "metadata": {},
   "outputs": [],
   "source": [
    "# The confusion matrix suggests there is no big issue in the results with no extreme cases, i.e. a low resort being predicted as excellent. \n",
    "# Later on during the threshold adjustments we may want to reduce the instance of false \"improvements\",i.e. predictions of good for low, and excellent for good resorts."
   ]
  },
  {
   "cell_type": "markdown",
   "id": "f4409abe-c1fb-472a-bb6b-d3aaff3aa1f0",
   "metadata": {},
   "source": [
    "## Hyperparameter Testing"
   ]
  },
  {
   "cell_type": "markdown",
   "id": "dff84db1-f5f9-48bc-9a45-8bb650585509",
   "metadata": {},
   "source": [
    "The Random Forest Classifier includes the following options:\n",
    "* n_estimators, default is 100, represents the number of trees in the forest (classifiers in the ensemble?)\n",
    "* max_depth, default is none, limit to number of splits (limiting this should reduce overfitting)\n",
    "* min_samples_split or min_samples_leaf, default is 2 and 1 respectively, increasing values should reduce overfitting and limit the impact of the country feature\n",
    "* max_features, default is sqrt, limits the features available. log2 or None are alternative options\n",
    "* class_weight, default is none, \"balanced\" can be used to adjust weights based on frequency, option appears to be related to thresholds\n",
    "* ccp_alpha, default is 0.0, essentially a regularisation term, 0.05 is probably a good max value"
   ]
  },
  {
   "cell_type": "code",
   "execution_count": 16,
   "id": "537f93d3-db6d-4dd2-bf61-6cf73f3220f8",
   "metadata": {},
   "outputs": [],
   "source": [
    "# Create hyperparameter grid\n",
    "\n",
    "n_est = [50, 100, 150]\n",
    "max_depth = [None, 5, 10]\n",
    "min_samples = [2, 4, 6]\n",
    "max_features = [\"sqrt\", \"log2\", None]\n",
    "class_weight = [None, \"balanced\"]\n",
    "ccp_alpha = [i * 0.025 for i in range(3)]  # Should give: 0.00, 0.025, 0.05\n",
    "\n",
    "# Form hyperparameters into a list of dictionaries\n",
    "hyper = [{\"n_estimators\":n, \"max_depth\":md, \"min_samples_split\":ms, \"max_features\":mf, \"class_weight\":cw, \"ccp_alpha\":a} \n",
    "         for n in n_est for md in max_depth for ms in min_samples for mf in max_features for cw in class_weight for a in ccp_alpha]"
   ]
  },
  {
   "cell_type": "code",
   "execution_count": 18,
   "id": "deefd9ba-3bb5-4561-8692-aea712c0a01c",
   "metadata": {},
   "outputs": [
    {
     "name": "stdout",
     "output_type": "stream",
     "text": [
      "('n_estimators', 100) ('max_depth', None) ('min_samples_split', 4) ('max_features', 'log2') ('class_weight', None) ('ccp_alpha', 0.0)\n",
      "Score is  0.9127464008859357\n",
      "Second best hyperparameters = ('n_estimators', 50) ('max_depth', None) ('min_samples_split', 4) ('max_features', 'sqrt') ('class_weight', 'balanced') ('ccp_alpha', 0.0)\n",
      "Score is  0.9077602436323366\n"
     ]
    }
   ],
   "source": [
    "# Store the values\n",
    "best_hyper_parameters, best_score, val_score = None, 0.0, 0.0\n",
    "\n",
    "for param in hyper:\n",
    "    rcf = RandomForestClassifier(**param)\n",
    "    for train_index, val_index in skf.split(X_train, y_train):\n",
    "        rcf.fit(X_train.iloc[train_index], y_train.iloc[train_index])\n",
    "        val_score += rcf.score(X_train.iloc[val_index], y_train.iloc[val_index])\n",
    "    val_score = val_score / 8\n",
    "    \n",
    "    if val_score > best_score:\n",
    "        second_best_score = best_score\n",
    "        second_best_parameters = best_hyper_parameters\n",
    "        best_score = val_score\n",
    "        best_hyper_parameters = param\n",
    "    # Reset score\n",
    "    val_score = 0.0\n",
    "        \n",
    "print(*best_hyper_parameters.items())\n",
    "print(\"Score is \", best_score)  \n",
    "print(\"Second best hyperparameters =\",*second_best_parameters.items())\n",
    "print(\"Score is \", second_best_score)     "
   ]
  },
  {
   "cell_type": "markdown",
   "id": "4ce5ec63-5aaf-46a7-b68d-e29499c827a8",
   "metadata": {},
   "source": [
    "## Evaluation"
   ]
  },
  {
   "cell_type": "code",
   "execution_count": 44,
   "id": "04ef99f0-3cd8-4504-bc2a-119b64682459",
   "metadata": {},
   "outputs": [
    {
     "data": {
      "text/plain": [
       "<sklearn.metrics._plot.confusion_matrix.ConfusionMatrixDisplay at 0x1f1b0cf36a0>"
      ]
     },
     "execution_count": 44,
     "metadata": {},
     "output_type": "execute_result"
    },
    {
     "data": {
      "image/png": "[encoded data removed]",
      "text/plain": [
       "<Figure size 432x288 with 2 Axes>"
      ]
     },
     "metadata": {
      "needs_background": "light"
     },
     "output_type": "display_data"
    }
   ],
   "source": [
    "# Lets do some model evaluation\n",
    "rcf = RandomForestClassifier(**best_hyper_parameters)\n",
    "\n",
    "# Need to limit fit to a subset of the data otherwise evaluation may be faulty\n",
    "X_train_eval, X_val, y_train_eval, y_val = train_test_split(X_train, y_train, test_size = 0.30, random_state=8)\n",
    "\n",
    "rcf.fit(X_train_eval, y_train_eval)\n",
    "\n",
    "# Get a new confusion matrix based on the validation data\n",
    "plot_confusion_matrix(rcf, X_val, y_val)"
   ]
  },
  {
   "cell_type": "markdown",
   "id": "fdcdcf0a-56e7-4bad-b870-d26f4fb1ab31",
   "metadata": {},
   "source": [
    "Model performance is generally good, but there are 26 cases where the class is over-estimated, i.e. \"low\" identified as \"good\", \"good\" identified as \"excellent\"."
   ]
  },
  {
   "cell_type": "code",
   "execution_count": 95,
   "id": "42075705-dd95-438b-ad20-e32129abaff7",
   "metadata": {},
   "outputs": [
    {
     "data": {
      "text/html": [
       "<div>\n",
       "<style scoped>\n",
       "    .dataframe tbody tr th:only-of-type {\n",
       "        vertical-align: middle;\n",
       "    }\n",
       "\n",
       "    .dataframe tbody tr th {\n",
       "        vertical-align: top;\n",
       "    }\n",
       "\n",
       "    .dataframe thead th {\n",
       "        text-align: right;\n",
       "    }\n",
       "</style>\n",
       "<table border=\"1\" class=\"dataframe\">\n",
       "  <thead>\n",
       "    <tr style=\"text-align: right;\">\n",
       "      <th></th>\n",
       "      <th>features</th>\n",
       "      <th>importances</th>\n",
       "    </tr>\n",
       "  </thead>\n",
       "  <tbody>\n",
       "    <tr>\n",
       "      <th>2</th>\n",
       "      <td>Total Piste Length (km)</td>\n",
       "      <td>26.7</td>\n",
       "    </tr>\n",
       "    <tr>\n",
       "      <th>0</th>\n",
       "      <td>Elevation Change (m)</td>\n",
       "      <td>17.3</td>\n",
       "    </tr>\n",
       "    <tr>\n",
       "      <th>6</th>\n",
       "      <td>Cost in Euros</td>\n",
       "      <td>14.8</td>\n",
       "    </tr>\n",
       "    <tr>\n",
       "      <th>5</th>\n",
       "      <td>Ski Lifts</td>\n",
       "      <td>10.5</td>\n",
       "    </tr>\n",
       "    <tr>\n",
       "      <th>3</th>\n",
       "      <td>Blue Piste Percent</td>\n",
       "      <td>6.4</td>\n",
       "    </tr>\n",
       "  </tbody>\n",
       "</table>\n",
       "</div>"
      ],
      "text/plain": [
       "                  features  importances\n",
       "2  Total Piste Length (km)         26.7\n",
       "0     Elevation Change (m)         17.3\n",
       "6            Cost in Euros         14.8\n",
       "5                Ski Lifts         10.5\n",
       "3       Blue Piste Percent          6.4"
      ]
     },
     "execution_count": 95,
     "metadata": {},
     "output_type": "execute_result"
    }
   ],
   "source": [
    "# Lets look at the 5 most important features as a sanity check\n",
    "df_importances = pd.DataFrame({\"features\":X_train.columns, 'importances': np.round(rcf.feature_importances_, 3)*100})\n",
    "df_importances.sort_values('importances', axis=0, ascending=False)[:5]"
   ]
  },
  {
   "cell_type": "code",
   "execution_count": 25,
   "id": "833e31a5-db1e-4d49-8625-07e5911a7832",
   "metadata": {},
   "outputs": [],
   "source": [
    "# If our customers are to be informed on the impact of planned changes then they must have a high-degree of confidence that the effects are not over-estimated. \n",
    "# Before trying to resolve this manually, let's use probability calibration to see if we can improve.\n",
    "\n",
    "from sklearn.calibration import CalibratedClassifierCV"
   ]
  },
  {
   "cell_type": "code",
   "execution_count": 27,
   "id": "a1ee9d71-59a9-4cf4-8633-73b8964f5f8d",
   "metadata": {},
   "outputs": [
    {
     "data": {
      "text/plain": [
       "<sklearn.metrics._plot.confusion_matrix.ConfusionMatrixDisplay at 0x1f1aeb22400>"
      ]
     },
     "execution_count": 27,
     "metadata": {},
     "output_type": "execute_result"
    },
    {
     "data": {
      "image/png": "[encoded data removed]",
      "text/plain": [
       "<Figure size 432x288 with 2 Axes>"
      ]
     },
     "metadata": {
      "needs_background": "light"
     },
     "output_type": "display_data"
    }
   ],
   "source": [
    "# Perform calibration of the pre-fit random for classifier\n",
    "cal_rcf = CalibratedClassifierCV(rcf, method=\"sigmoid\", cv=\"prefit\")\n",
    "\n",
    "# Compare performance by assessing the new confusion matrix\n",
    "# For binary cases a brier_score_loss could be used, but is inappropriate for 3 or more classes.\n",
    "plot_confusion_matrix(cal_rcf.fit(X_train_eval, y_train_eval), X_val, y_val)"
   ]
  },
  {
   "cell_type": "markdown",
   "id": "83f9f8cb-2cdd-4e5e-9538-171fb60e7c11",
   "metadata": {},
   "source": [
    "Not a successful approach. Some metrics have deteriorated, while others improved. A more manual approach is required to achieve the stated aims."
   ]
  },
  {
   "cell_type": "code",
   "execution_count": 97,
   "id": "8c4d6c07-828a-4f0e-8ff9-26e4345f7149",
   "metadata": {},
   "outputs": [],
   "source": [
    "# Use the ROC curve (True Positive Rate over False Positive Rate) to assess the currrent implimentation\n",
    "from sklearn.metrics import roc_auc_score\n",
    "from sklearn.metrics import accuracy_score\n",
    "from sklearn.metrics import precision_score"
   ]
  },
  {
   "cell_type": "code",
   "execution_count": 45,
   "id": "e0a6cc69-6996-4364-acfc-253ec45ccace",
   "metadata": {},
   "outputs": [
    {
     "data": {
      "text/plain": [
       "0.9730120291231402"
      ]
     },
     "execution_count": 45,
     "metadata": {},
     "output_type": "execute_result"
    }
   ],
   "source": [
    "# Use multi-class equals one vs one because we are interested in adjacent class relationships\n",
    "roc_auc_score(y_val, rcf.predict_proba(X_val), multi_class=\"ovo\")"
   ]
  },
  {
   "cell_type": "markdown",
   "id": "d6402388-e83d-4719-a518-febf1ac81462",
   "metadata": {},
   "source": [
    "That's a near ideal score, and we are not aiming to improve it.\n",
    "We want to specifically impalance the predictions towards the lower end.\n",
    "Specifically, if we consider the 'excellent'/'good' split seperately as 'positive/negative'. We want to increase the Precision, i.e. the ratio of 'True Positives' to 'Positive Predictions'.\n",
    "We also want to do the equivalent for the 'good'/'low' split.\n",
    "\n",
    "Let's review the current probabilities and explore the results"
   ]
  },
  {
   "cell_type": "code",
   "execution_count": null,
   "id": "6fde433f-f58d-44ed-8c90-0396564a39b1",
   "metadata": {
    "tags": []
   },
   "outputs": [],
   "source": [
    "# Generate a DataFrame to play with predicted probabilities for each label, the correct label, and predicted labels\n",
    "df_explore = pd.DataFrame({'prob_excellent': rcf.predict_proba(X_train)[:, 0], 'prob_good': rcf.predict_proba(X_train)[:, 1], 'prob_low': rcf.predict_proba(X_train)[:, 2],\n",
    "                           'labels': y_train, 'pred_labels': rcf.predict(X_train)})"
   ]
  },
  {
   "cell_type": "code",
   "execution_count": 76,
   "id": "ab9107e4-fe4f-49a4-866b-142ccb95ee12",
   "metadata": {},
   "outputs": [
    {
     "data": {
      "text/html": [
       "<div>\n",
       "<style scoped>\n",
       "    .dataframe tbody tr th:only-of-type {\n",
       "        vertical-align: middle;\n",
       "    }\n",
       "\n",
       "    .dataframe tbody tr th {\n",
       "        vertical-align: top;\n",
       "    }\n",
       "\n",
       "    .dataframe thead th {\n",
       "        text-align: right;\n",
       "    }\n",
       "</style>\n",
       "<table border=\"1\" class=\"dataframe\">\n",
       "  <thead>\n",
       "    <tr style=\"text-align: right;\">\n",
       "      <th></th>\n",
       "      <th>prob_excellent</th>\n",
       "      <th>prob_good</th>\n",
       "      <th>prob_low</th>\n",
       "      <th>labels</th>\n",
       "      <th>pred_labels</th>\n",
       "    </tr>\n",
       "    <tr>\n",
       "      <th>Access Order</th>\n",
       "      <th></th>\n",
       "      <th></th>\n",
       "      <th></th>\n",
       "      <th></th>\n",
       "      <th></th>\n",
       "    </tr>\n",
       "  </thead>\n",
       "  <tbody>\n",
       "    <tr>\n",
       "      <th>512</th>\n",
       "      <td>0.503286</td>\n",
       "      <td>0.496714</td>\n",
       "      <td>0.000000</td>\n",
       "      <td>good</td>\n",
       "      <td>excellent</td>\n",
       "    </tr>\n",
       "    <tr>\n",
       "      <th>353</th>\n",
       "      <td>0.515119</td>\n",
       "      <td>0.479881</td>\n",
       "      <td>0.005000</td>\n",
       "      <td>good</td>\n",
       "      <td>excellent</td>\n",
       "    </tr>\n",
       "    <tr>\n",
       "      <th>363</th>\n",
       "      <td>0.535976</td>\n",
       "      <td>0.416524</td>\n",
       "      <td>0.047500</td>\n",
       "      <td>good</td>\n",
       "      <td>excellent</td>\n",
       "    </tr>\n",
       "    <tr>\n",
       "      <th>527</th>\n",
       "      <td>0.561167</td>\n",
       "      <td>0.436833</td>\n",
       "      <td>0.002000</td>\n",
       "      <td>good</td>\n",
       "      <td>excellent</td>\n",
       "    </tr>\n",
       "    <tr>\n",
       "      <th>605</th>\n",
       "      <td>0.580476</td>\n",
       "      <td>0.404524</td>\n",
       "      <td>0.015000</td>\n",
       "      <td>good</td>\n",
       "      <td>excellent</td>\n",
       "    </tr>\n",
       "    <tr>\n",
       "      <th>482</th>\n",
       "      <td>0.605167</td>\n",
       "      <td>0.334833</td>\n",
       "      <td>0.060000</td>\n",
       "      <td>good</td>\n",
       "      <td>excellent</td>\n",
       "    </tr>\n",
       "    <tr>\n",
       "      <th>818</th>\n",
       "      <td>0.673571</td>\n",
       "      <td>0.300167</td>\n",
       "      <td>0.026262</td>\n",
       "      <td>good</td>\n",
       "      <td>excellent</td>\n",
       "    </tr>\n",
       "    <tr>\n",
       "      <th>422</th>\n",
       "      <td>0.899333</td>\n",
       "      <td>0.100667</td>\n",
       "      <td>0.000000</td>\n",
       "      <td>good</td>\n",
       "      <td>excellent</td>\n",
       "    </tr>\n",
       "  </tbody>\n",
       "</table>\n",
       "</div>"
      ],
      "text/plain": [
       "              prob_excellent  prob_good  prob_low labels pred_labels\n",
       "Access Order                                                        \n",
       "512                 0.503286   0.496714  0.000000   good   excellent\n",
       "353                 0.515119   0.479881  0.005000   good   excellent\n",
       "363                 0.535976   0.416524  0.047500   good   excellent\n",
       "527                 0.561167   0.436833  0.002000   good   excellent\n",
       "605                 0.580476   0.404524  0.015000   good   excellent\n",
       "482                 0.605167   0.334833  0.060000   good   excellent\n",
       "818                 0.673571   0.300167  0.026262   good   excellent\n",
       "422                 0.899333   0.100667  0.000000   good   excellent"
      ]
     },
     "execution_count": 76,
     "metadata": {},
     "output_type": "execute_result"
    }
   ],
   "source": [
    "# Look at the difference where an incorrect prediction is made\n",
    "df_explore[(df_explore[\"pred_labels\"] == 'excellent') & (df_explore[\"labels\"] != df_explore[\"pred_labels\"])].sort_values('prob_excellent', axis=0)"
   ]
  },
  {
   "cell_type": "code",
   "execution_count": 77,
   "id": "ee1f29cc-5849-4828-a3e9-6221b7bc62e5",
   "metadata": {},
   "outputs": [
    {
     "data": {
      "text/html": [
       "<div>\n",
       "<style scoped>\n",
       "    .dataframe tbody tr th:only-of-type {\n",
       "        vertical-align: middle;\n",
       "    }\n",
       "\n",
       "    .dataframe tbody tr th {\n",
       "        vertical-align: top;\n",
       "    }\n",
       "\n",
       "    .dataframe thead th {\n",
       "        text-align: right;\n",
       "    }\n",
       "</style>\n",
       "<table border=\"1\" class=\"dataframe\">\n",
       "  <thead>\n",
       "    <tr style=\"text-align: right;\">\n",
       "      <th></th>\n",
       "      <th>prob_excellent</th>\n",
       "      <th>prob_good</th>\n",
       "      <th>prob_low</th>\n",
       "      <th>labels</th>\n",
       "      <th>pred_labels</th>\n",
       "    </tr>\n",
       "    <tr>\n",
       "      <th>Access Order</th>\n",
       "      <th></th>\n",
       "      <th></th>\n",
       "      <th></th>\n",
       "      <th></th>\n",
       "      <th></th>\n",
       "    </tr>\n",
       "  </thead>\n",
       "  <tbody>\n",
       "    <tr>\n",
       "      <th>27</th>\n",
       "      <td>0.453000</td>\n",
       "      <td>0.322167</td>\n",
       "      <td>0.224833</td>\n",
       "      <td>excellent</td>\n",
       "      <td>excellent</td>\n",
       "    </tr>\n",
       "    <tr>\n",
       "      <th>179</th>\n",
       "      <td>0.492345</td>\n",
       "      <td>0.437655</td>\n",
       "      <td>0.070000</td>\n",
       "      <td>excellent</td>\n",
       "      <td>excellent</td>\n",
       "    </tr>\n",
       "    <tr>\n",
       "      <th>302</th>\n",
       "      <td>0.509952</td>\n",
       "      <td>0.471548</td>\n",
       "      <td>0.018500</td>\n",
       "      <td>excellent</td>\n",
       "      <td>excellent</td>\n",
       "    </tr>\n",
       "    <tr>\n",
       "      <th>132</th>\n",
       "      <td>0.510333</td>\n",
       "      <td>0.468167</td>\n",
       "      <td>0.021500</td>\n",
       "      <td>excellent</td>\n",
       "      <td>excellent</td>\n",
       "    </tr>\n",
       "    <tr>\n",
       "      <th>261</th>\n",
       "      <td>0.520333</td>\n",
       "      <td>0.239690</td>\n",
       "      <td>0.239976</td>\n",
       "      <td>excellent</td>\n",
       "      <td>excellent</td>\n",
       "    </tr>\n",
       "    <tr>\n",
       "      <th>...</th>\n",
       "      <td>...</td>\n",
       "      <td>...</td>\n",
       "      <td>...</td>\n",
       "      <td>...</td>\n",
       "      <td>...</td>\n",
       "    </tr>\n",
       "    <tr>\n",
       "      <th>26</th>\n",
       "      <td>0.995000</td>\n",
       "      <td>0.005000</td>\n",
       "      <td>0.000000</td>\n",
       "      <td>excellent</td>\n",
       "      <td>excellent</td>\n",
       "    </tr>\n",
       "    <tr>\n",
       "      <th>198</th>\n",
       "      <td>0.996667</td>\n",
       "      <td>0.003333</td>\n",
       "      <td>0.000000</td>\n",
       "      <td>excellent</td>\n",
       "      <td>excellent</td>\n",
       "    </tr>\n",
       "    <tr>\n",
       "      <th>64</th>\n",
       "      <td>0.996667</td>\n",
       "      <td>0.003333</td>\n",
       "      <td>0.000000</td>\n",
       "      <td>excellent</td>\n",
       "      <td>excellent</td>\n",
       "    </tr>\n",
       "    <tr>\n",
       "      <th>130</th>\n",
       "      <td>1.000000</td>\n",
       "      <td>0.000000</td>\n",
       "      <td>0.000000</td>\n",
       "      <td>excellent</td>\n",
       "      <td>excellent</td>\n",
       "    </tr>\n",
       "    <tr>\n",
       "      <th>60</th>\n",
       "      <td>1.000000</td>\n",
       "      <td>0.000000</td>\n",
       "      <td>0.000000</td>\n",
       "      <td>excellent</td>\n",
       "      <td>excellent</td>\n",
       "    </tr>\n",
       "  </tbody>\n",
       "</table>\n",
       "<p>249 rows × 5 columns</p>\n",
       "</div>"
      ],
      "text/plain": [
       "              prob_excellent  prob_good  prob_low     labels pred_labels\n",
       "Access Order                                                            \n",
       "27                  0.453000   0.322167  0.224833  excellent   excellent\n",
       "179                 0.492345   0.437655  0.070000  excellent   excellent\n",
       "302                 0.509952   0.471548  0.018500  excellent   excellent\n",
       "132                 0.510333   0.468167  0.021500  excellent   excellent\n",
       "261                 0.520333   0.239690  0.239976  excellent   excellent\n",
       "...                      ...        ...       ...        ...         ...\n",
       "26                  0.995000   0.005000  0.000000  excellent   excellent\n",
       "198                 0.996667   0.003333  0.000000  excellent   excellent\n",
       "64                  0.996667   0.003333  0.000000  excellent   excellent\n",
       "130                 1.000000   0.000000  0.000000  excellent   excellent\n",
       "60                  1.000000   0.000000  0.000000  excellent   excellent\n",
       "\n",
       "[249 rows x 5 columns]"
      ]
     },
     "execution_count": 77,
     "metadata": {},
     "output_type": "execute_result"
    }
   ],
   "source": [
    "df_explore[(df_explore[\"pred_labels\"] == 'excellent') & (df_explore[\"labels\"] == df_explore[\"pred_labels\"])].sort_values('prob_excellent', axis=0)"
   ]
  },
  {
   "cell_type": "code",
   "execution_count": 117,
   "id": "82925056-1099-4816-aacb-51c61d5f0cc1",
   "metadata": {},
   "outputs": [
    {
     "name": "stdout",
     "output_type": "stream",
     "text": [
      "Starting accuracy is 0.97\n",
      "Initial precision of excellent resorts is 0.97\n",
      "Initial precision of good resorts is 0.95\n",
      "Accuracy is 0.85\n",
      "Precision of excellent resorts is 0.99\n",
      "Precision of good resorts is 0.82\n"
     ]
    }
   ],
   "source": [
    "# Looking at the data there is no obvious way to improve the model precision while maintaining accuracy\n",
    "\n",
    "# Create a function to predict labels with higher precision\n",
    "def improve_precision(label_string:list, classifier, data, true_labels, min_accuracy=0.85):\n",
    "    \n",
    "    precision = precision_score(true_labels, classifier.predict(data), average=None)\n",
    "    accuracy = accuracy_score(true_labels, classifier.predict(data))\n",
    "    \n",
    "    print(f\"Starting accuracy is {round(accuracy, 2)}\")\n",
    "    print(f\"Initial precision of excellent resorts is {round(precision[0], 2)}\\nInitial precision of good resorts is {round(precision[1], 2)}\")\n",
    "    \n",
    "    # Define initial adjustment\n",
    "    modifier = 0.01\n",
    "    \n",
    "    pred_labels = np.argmax(classifier.predict_proba(data), axis=1)\n",
    "    probabilities = classifier.predict_proba(data)\n",
    "      \n",
    "    while (accuracy > min_accuracy) | (precision[0] < 0.99):\n",
    "        new_labels = []\n",
    "        for i in range(len(true_labels)):\n",
    "            if pred_labels[i] == 0:\n",
    "                diff = probabilities[i,0] - probabilities[i,1]\n",
    "                \n",
    "                if diff < modifier:\n",
    "                    new_labels.append(label_string[1])\n",
    "                else:\n",
    "                    new_labels.append(label_string[0])\n",
    "                    \n",
    "            elif pred_labels[i] == 1:\n",
    "                diff = probabilities[i,1] - probabilities[i,2]\n",
    "                \n",
    "                if diff < modifier:\n",
    "                    new_labels.append(label_string[2])\n",
    "                else:\n",
    "                    new_labels.append(label_string[1])\n",
    "            \n",
    "            else:\n",
    "                new_labels.append(label_string[2])\n",
    "                \n",
    "        accuracy = accuracy_score(true_labels, new_labels)\n",
    "        precision = precision_score(true_labels, new_labels, average=None)\n",
    "        modifier += 0.01\n",
    "    \n",
    "    print(f\"Accuracy is {round(accuracy, 2)}\")\n",
    "    print(f\"Precision of excellent resorts is {round(precision[0], 2)}\\nPrecision of good resorts is {round(precision[1], 2)}\")\n",
    "    return new_labels\n",
    "        \n",
    "# Note: High accuracy to begin with as it is trained on the data it predicts\n",
    "y_train_pred = improve_precision(['excellent', 'good', 'low'], rcf, X_train, y_train)"
   ]
  },
  {
   "cell_type": "markdown",
   "id": "0766552c-be5d-4052-a088-724e3fb6f4fa",
   "metadata": {},
   "source": [
    "## Test"
   ]
  },
  {
   "cell_type": "code",
   "execution_count": 105,
   "id": "7db1f501-ad2d-428a-85c8-9e64217fc73c",
   "metadata": {},
   "outputs": [
    {
     "name": "stdout",
     "output_type": "stream",
     "text": [
      "Starting accuracy is 0.89\n",
      "Initial precision of excellent resorts is 0.86\n",
      "Initial precision of good resorts is 0.85\n",
      "Accuracy is 0.85\n",
      "Precision of excellent resorts is 1.0\n",
      "Precision of good resorts is 0.84\n"
     ]
    }
   ],
   "source": [
    "# Now apply to our test data\n",
    "y_test_pred = improve_precision(['excellent', 'good', 'low'], rcf, X_test, y_test)"
   ]
  },
  {
   "cell_type": "code",
   "execution_count": 110,
   "id": "9f35bd2c-2f01-4938-9159-2951e29dc0b7",
   "metadata": {},
   "outputs": [],
   "source": [
    "# Need a different approach for confusion matrix because of the post-processing\n",
    "from sklearn.metrics import confusion_matrix, ConfusionMatrixDisplay"
   ]
  },
  {
   "cell_type": "code",
   "execution_count": 112,
   "id": "120a7761-f124-4998-a2d2-dd2eb1a61293",
   "metadata": {},
   "outputs": [
    {
     "data": {
      "text/plain": [
       "<sklearn.metrics._plot.confusion_matrix.ConfusionMatrixDisplay at 0x1f1b0c045e0>"
      ]
     },
     "execution_count": 112,
     "metadata": {},
     "output_type": "execute_result"
    },
    {
     "data": {
      "image/png": "[encoded data removed]",
      "text/plain": [
       "<Figure size 432x288 with 2 Axes>"
      ]
     },
     "metadata": {
      "needs_background": "light"
     },
     "output_type": "display_data"
    }
   ],
   "source": [
    "# Confusion Matrix of the final model\n",
    "# No false positives in the excellent category\n",
    "# Very limited, 2/346, false positives in the good category\n",
    "# Conversely, a lot of miscategorisation. It may over-estimate the investment required to achieve 'excellent' status\n",
    "\n",
    "cm = confusion_matrix(y_test, y_test_pred)\n",
    "cm_plot = ConfusionMatrixDisplay(confusion_matrix = cm, display_labels=['excellent', 'good', 'low'])\n",
    "cm_plot.plot()"
   ]
  }
 ],
 "metadata": {
  "kernelspec": {
   "display_name": "Python 3",
   "language": "python",
   "name": "python3"
  },
  "language_info": {
   "codemirror_mode": {
    "name": "ipython",
    "version": 3
   },
   "file_extension": ".py",
   "mimetype": "text/x-python",
   "name": "python",
   "nbconvert_exporter": "python",
   "pygments_lexer": "ipython3",
   "version": "3.8.5"
  }
 },
 "nbformat": 4,
 "nbformat_minor": 5
}
